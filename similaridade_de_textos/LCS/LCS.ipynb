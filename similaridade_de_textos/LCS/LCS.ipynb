{
 "cells": [
  {
   "cell_type": "markdown",
   "metadata": {},
   "source": [
    "\n",
    "<h2 style=\"text-align:center;\"> Medida de similaridade entre textos </h2>\n",
    "<h3 style=\"text-align:center;\">  Longest Common Subsequence (LCS) ou Maior Subsequência Comum </h3>"
   ]
  },
  {
   "cell_type": "markdown",
   "metadata": {},
   "source": [
    "--- "
   ]
  },
  {
   "cell_type": "markdown",
   "metadata": {},
   "source": [
    "A maior subsequência comum consiste na string C que é subsequência das strings A e B. No nosso caso, nós queremos identificar a maior sequência de palavras que aparecem entre duas strings indo da esquerda para a direita."
   ]
  },
  {
   "cell_type": "markdown",
   "metadata": {},
   "source": [
    "A = Aprenda Machine `Learning` no Minerando Dados para resolver `problemas de negócios`\n",
    "\n",
    "B = Deep `Learning` pode ajudar a solucionar diversos `problemas de negócios`"
   ]
  },
  {
   "cell_type": "markdown",
   "metadata": {},
   "source": [
    "* C = Learning problema de negócios\n",
    "* LCS = 4 \n",
    "* LCS normalizado = 4 /11 "
   ]
  },
  {
   "cell_type": "markdown",
   "metadata": {},
   "source": [
    "Outros exemplos:\n",
    "\n",
    "* A = “`A`BC`D`G`H`” e B = “`A`E`D`F`H`R”  -->  C = “`ADH`” , LCS = 3"
   ]
  },
  {
   "cell_type": "code",
   "execution_count": 1,
   "metadata": {},
   "outputs": [],
   "source": [
    "import numpy as np"
   ]
  },
  {
   "cell_type": "code",
   "execution_count": 2,
   "metadata": {},
   "outputs": [],
   "source": [
    "string_A = 'A B C D G H'\n",
    "string_B = 'A R D F H R'"
   ]
  },
  {
   "cell_type": "code",
   "execution_count": 12,
   "metadata": {},
   "outputs": [],
   "source": [
    "string_A = 'Aprenda Machine Learning no Minerando Dados para resolver problemas de negócios'\n",
    "\n",
    "string_B= 'Deep Learning pode ajudar a solucionar diversos problemas de negócios'"
   ]
  },
  {
   "cell_type": "code",
   "execution_count": 13,
   "metadata": {},
   "outputs": [
    {
     "data": {
      "text/plain": [
       "['Deep',\n",
       " 'Learning',\n",
       " 'pode',\n",
       " 'ajudar',\n",
       " 'a',\n",
       " 'solucionar',\n",
       " 'diversos',\n",
       " 'problemas',\n",
       " 'de',\n",
       " 'negócios']"
      ]
     },
     "execution_count": 13,
     "metadata": {},
     "output_type": "execute_result"
    }
   ],
   "source": [
    "# Separa em palavras\n",
    "palavras_a = string_A.split()\n",
    "palavras_b = string_B.split()\n",
    "palavras_b"
   ]
  },
  {
   "cell_type": "code",
   "execution_count": 14,
   "metadata": {},
   "outputs": [
    {
     "data": {
      "text/plain": [
       "10"
      ]
     },
     "execution_count": 14,
     "metadata": {},
     "output_type": "execute_result"
    }
   ],
   "source": [
    "# Tamanho de cada string \n",
    "tamanho_a = len(palavras_a)\n",
    "tamanho_b = len(palavras_b)\n",
    "tamanho_b"
   ]
  },
  {
   "cell_type": "code",
   "execution_count": 15,
   "metadata": {},
   "outputs": [
    {
     "data": {
      "text/plain": [
       "array([[0, 0, 0, 0, 0, 0, 0, 0, 0, 0, 0, 0],\n",
       "       [0, 0, 0, 0, 0, 0, 0, 0, 0, 0, 0, 0],\n",
       "       [0, 0, 0, 0, 0, 0, 0, 0, 0, 0, 0, 0],\n",
       "       [0, 0, 0, 0, 0, 0, 0, 0, 0, 0, 0, 0],\n",
       "       [0, 0, 0, 0, 0, 0, 0, 0, 0, 0, 0, 0],\n",
       "       [0, 0, 0, 0, 0, 0, 0, 0, 0, 0, 0, 0],\n",
       "       [0, 0, 0, 0, 0, 0, 0, 0, 0, 0, 0, 0],\n",
       "       [0, 0, 0, 0, 0, 0, 0, 0, 0, 0, 0, 0],\n",
       "       [0, 0, 0, 0, 0, 0, 0, 0, 0, 0, 0, 0],\n",
       "       [0, 0, 0, 0, 0, 0, 0, 0, 0, 0, 0, 0],\n",
       "       [0, 0, 0, 0, 0, 0, 0, 0, 0, 0, 0, 0]])"
      ]
     },
     "execution_count": 15,
     "metadata": {},
     "output_type": "execute_result"
    }
   ],
   "source": [
    "# cria matriz    \n",
    "matriz_lcs = np.zeros(shape = (tamanho_b +1 , tamanho_a +1 ), dtype = int)\n",
    "matriz_lcs"
   ]
  },
  {
   "cell_type": "code",
   "execution_count": 16,
   "metadata": {},
   "outputs": [],
   "source": [
    "# Itera a string para montar a matriz  de comparação dos textos\n",
    "for b , palavra_b in enumerate(palavras_b, 1):\n",
    "    for a, palavra_a in enumerate(palavras_a,1):\n",
    "        if palavra_b == palavra_a:\n",
    "            matriz_lcs[b][a] = matriz_lcs[b-1][a-1] + 1             \n",
    "        else:\n",
    "            matriz_lcs[b][a] = max(matriz_lcs[b-1][a], matriz_lcs[b][a-1])"
   ]
  },
  {
   "cell_type": "code",
   "execution_count": 17,
   "metadata": {},
   "outputs": [
    {
     "data": {
      "text/plain": [
       "4"
      ]
     },
     "execution_count": 17,
     "metadata": {},
     "output_type": "execute_result"
    }
   ],
   "source": [
    "# Pega o valor do LCS na matriz\n",
    "valor_lcs = matriz_lcs[tamanho_b][tamanho_a]\n",
    "valor_lcs"
   ]
  },
  {
   "cell_type": "code",
   "execution_count": 18,
   "metadata": {},
   "outputs": [
    {
     "data": {
      "text/plain": [
       "0.36363636363636365"
      ]
     },
     "execution_count": 18,
     "metadata": {},
     "output_type": "execute_result"
    }
   ],
   "source": [
    "# Normaliza o valor do LCS\n",
    "lcs_normalizado = valor_lcs / tamanho_a\n",
    "lcs_normalizado"
   ]
  },
  {
   "cell_type": "markdown",
   "metadata": {},
   "source": [
    "Referências:"
   ]
  },
  {
   "cell_type": "markdown",
   "metadata": {},
   "source": [
    "* https://www.ime.usp.br/~song/alves/rtalcs.pdf\n",
    "* https://www.geeksforgeeks.org/longest-common-subsequence-dp-4/\n",
    "* https://www.hackerrank.com/challenges/dynamic-programming-classics-the-longest-common-subsequence/problem\n",
    "* https://www.researchgate.net/publication/220147549_Developing_a_corpus_of_plagiarised_short_answers"
   ]
  }
 ],
 "metadata": {
  "kernelspec": {
   "display_name": "Python 3",
   "language": "python",
   "name": "python3"
  },
  "language_info": {
   "codemirror_mode": {
    "name": "ipython",
    "version": 3
   },
   "file_extension": ".py",
   "mimetype": "text/x-python",
   "name": "python",
   "nbconvert_exporter": "python",
   "pygments_lexer": "ipython3",
   "version": "3.8.3"
  }
 },
 "nbformat": 4,
 "nbformat_minor": 4
}
